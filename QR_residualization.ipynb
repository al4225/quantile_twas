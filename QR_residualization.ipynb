{
 "cells": [
  {
   "cell_type": "markdown",
   "metadata": {},
   "source": [
    "## Discrepancy Between Residualization and Direct Fitting in QR\n",
    "### Context and Problem Statement    \n",
    "- **Quantile Regression (QR)** is often used to study the relationship between variables for different quantiles of the dependent variable's distribution.\n",
    "\n",
    "- When applying QR, we have two possible approaches in the `quantile_twas` pipeline:   \n",
    "1) **Residualization Approach**: `Residualize` both `x` and `y` (the main predictor and the response) against covariates `z` using `lm()`, then fit QR. We often use this as input to speed up.\n",
    "\n",
    "2) **Direct Fitting Approach**: Directly fit QR using `x`, `y`, and `z` (covariates) without residualizing.\n",
    "\n",
    "- Discrepancy:    \n",
    "-- `Coefficients`and `p-values` differ when residualizing x and y and then applying QR, compared to applying QR directly with z in the model.    \n",
    "-- This discrepancy is observed particularly when using the `QR_screen` function to compute `p-values` and the `rq()` function for `coefficient` estimation.\n",
    "\n",
    "### Goal and Objective  \n",
    "- The primary goal for this issue is to **identify the cause of the discrepancy**: \n",
    "  - Is it a problem with the residualization method, or does the difference stem from how the QR functions handle the data internally?\n",
    "  \n",
    "- The secondary goal is to optimize the QR process by **using residualization when possible**, as it reduces computational time. This would be particularly valuable for large datasets where direct fitting is costly.\n",
    "\n",
    "### Potential Causes for Discrepancy    \n",
    "1. **Residualization in QR**:  \n",
    "   - The residuals obtained from `lm()` may not fully capture the relationship between x, y, and z in a way that is equivalent to how **QR** handles covariates internally.\n",
    "   - The `lm()` method is used for ordinary least squares regression and produces residuals based on minimizing the sum of squared errors. However, QR minimizes the sum of absolute errors (L1 norm), which leads to different residual structures.\n",
    "\n",
    "2. **QR's Internal Handling of Covariates**:\n",
    "   - In QR, the handling of covariates might involve more sophisticated methods than simple residualization. For instance, QR could be adjusting the coefficients in a way that accounts for the **quantile-specific nature** of the regression, which linear models (lm) do not consider.\n",
    "   - QR internally fits a **Barrodale-Roberts algorithm** (as in `rq.fit.br()`) that may handle covariates and residuals differently compared to `lm()`, and may even include special handling of dual variables and constraints not present in ordinary least squares.\n",
    "\n",
    "3. **Possible QR-Specific Residualization**:\n",
    "   - If QR applies some kind of **dual variable estimation** or other **L1-penalized adjustment**, it might explain why the direct fitting results differ from those using residuals obtained through linear regression (`lm()`).\n",
    "   - **Whether QR code just uses LM for residualization?** It's possible that QR handles residuals differently, leading to the observed discrepancies.\n",
    "\n"
   ]
  },
  {
   "cell_type": "markdown",
   "metadata": {},
   "source": [
    "### Residual Calculation method\n",
    "This method calculates residuals for both predictor (X) and response (Y) variables by adjusting for covariates (covar) using linear regression. The residualization process removes the effect of the covariates on X and Y, isolating the variation in X and Y that is independent of the covariates."
   ]
  },
  {
   "cell_type": "code",
   "execution_count": 6,
   "metadata": {
    "vscode": {
     "languageId": "r"
    }
   },
   "outputs": [],
   "source": [
    "library(tidyverse)\n",
    "residualize <- function(X, Y, covar) {\n",
    "  # Calculate residuals for X and Y with respect to covariates without scaling\n",
    "  X_resid <- .lm.fit(x = cbind(1, covar), y = X)$residuals %>% as.matrix()\n",
    "  Y_resid <- .lm.fit(x = cbind(1, covar), y = Y)$residuals %>% as.matrix()\n",
    "\n",
    "  return(list(X_resid = X_resid, Y_resid = Y_resid))\n",
    "}"
   ]
  },
  {
   "cell_type": "markdown",
   "metadata": {},
   "source": [
    "### Steps to Reproduce\n",
    "#### **Function 1**: `rq()` to get coeficient and se.\n",
    "The issue can be reproduced using the following example with the `mtcars` dataset:"
   ]
  },
  {
   "cell_type": "code",
   "execution_count": 5,
   "metadata": {
    "vscode": {
     "languageId": "r"
    }
   },
   "outputs": [
    {
     "name": "stdout",
     "output_type": "stream",
     "text": [
      "[1] \"Quantile regression on residuals (tau = 0.9):\"\n"
     ]
    },
    {
     "data": {
      "text/plain": [
       "\n",
       "Call: rq(formula = yy_residual ~ xx_residual - 1, tau = 0.9)\n",
       "\n",
       "tau: [1] 0.9\n",
       "\n",
       "Coefficients:\n",
       "xx_residual \n",
       "   -3.45685 "
      ]
     },
     "metadata": {},
     "output_type": "display_data"
    },
    {
     "name": "stdout",
     "output_type": "stream",
     "text": [
      "[1] \"Quantile regression on residuals with intercept (tau = 0.9):\"\n"
     ]
    },
    {
     "name": "stderr",
     "output_type": "stream",
     "text": [
      "Warning message in rq.fit.br(x, y, tau = tau, ci = TRUE, ...):\n",
      "\"Solution may be nonunique\"\n"
     ]
    },
    {
     "data": {
      "text/plain": [
       "\n",
       "Call: rq(formula = yy_residual ~ xx_residual, tau = 0.9)\n",
       "\n",
       "tau: [1] 0.9\n",
       "\n",
       "Coefficients:\n",
       "            coefficients lower bd upper bd\n",
       "(Intercept)  3.67489      1.54171  5.55825\n",
       "xx_residual -6.39528     -6.53862 -2.88415"
      ]
     },
     "metadata": {},
     "output_type": "display_data"
    },
    {
     "name": "stdout",
     "output_type": "stream",
     "text": [
      "[1] \"Quantile regression on original data with covariates (tau = 0.9):\"\n"
     ]
    },
    {
     "data": {
      "text/plain": [
       "\n",
       "Call: rq(formula = mpg ~ wt + hp + qsec, tau = 0.9, data = mtcars)\n",
       "\n",
       "tau: [1] 0.9\n",
       "\n",
       "Coefficients:\n",
       "            coefficients lower bd  upper bd \n",
       "(Intercept)  13.73555    -27.65675  66.32787\n",
       "wt           -4.59014     -8.77379  -3.95215\n",
       "hp           -0.01156     -0.03285   0.12811\n",
       "qsec          1.47432     -0.05344   3.93562"
      ]
     },
     "metadata": {},
     "output_type": "display_data"
    }
   ],
   "source": [
    "library(quantreg)\n",
    "data(\"mtcars\")\n",
    "\n",
    "y <- as.matrix(mtcars$mpg)  # Response variable\n",
    "x <- as.matrix(mtcars$wt)   # Main predictor\n",
    "covariates_df <- as.matrix(mtcars[, c(\"hp\", \"qsec\")])  # Covariates (hp and qsec)\n",
    "\n",
    "# Step 1: Residualize y and x with respect to covariates (z)\n",
    "residuals_result <- residualize(x, y, covariates_df)\n",
    "xx_residual <- residuals_result$X_resid\n",
    "yy_residual <- residuals_result$Y_resid\n",
    "\n",
    "# Step 2: Perform quantile regression on residuals, tau = 0.9: coef = -3.45685\n",
    "# NOTE: when fit the residualized x and y without intercept, in any quantiles, coef are the same.\n",
    "rq_residual_model <- rq(yy_residual ~ xx_residual - 1, tau = 0.9)  # No intercept\n",
    "print(\"Quantile regression on residuals (tau = 0.9):\")\n",
    "summary(rq_residual_model)\n",
    "\n",
    "# Step 3: Perform quantile regression on residuals with intercept, tau = 0.9: coef = -6.39528\n",
    "rq_residual_model_intercept <- rq(yy_residual ~ xx_residual, tau = 0.9)  # With intercept\n",
    "print(\"Quantile regression on residuals with intercept (tau = 0.9):\")\n",
    "summary(rq_residual_model_intercept)\n",
    "\n",
    "# Step 4: Perform quantile regression on original data with covariates: coef = -4.59014\n",
    "rq_original_model <- rq(mpg ~ wt + hp + qsec, data = mtcars, tau = 0.9)\n",
    "print(\"Quantile regression on original data with covariates (tau = 0.9):\")\n",
    "summary(rq_original_model)\n"
   ]
  },
  {
   "cell_type": "markdown",
   "metadata": {},
   "source": [
    "##### Observed Behavior:\n",
    "The coefficients for x and their standard errors differ between the two functions.    \n",
    "Residualization Approach (`rq_residual_model`) leads to different coefficients compared to the Direct Fitting Approach (`rq_original_model`)."
   ]
  },
  {
   "cell_type": "markdown",
   "metadata": {},
   "source": [
    "#### **Function 2**: `QR_screen()` to get pvalue and qvalue to filter significant snps.    \n",
    "In this function, we compute quantile-specific p-values and cauchy pvalue for direct X, Y, Z, or a predictor (x) by residualizing it against covariates (z) and then using quantile regression:    "
   ]
  },
  {
   "cell_type": "code",
   "execution_count": 6,
   "metadata": {
    "vscode": {
     "languageId": "r"
    }
   },
   "outputs": [],
   "source": [
    "# function QR_screen\n",
    "QR_screen <- function(X, Y, Z = NULL, tau.list, threshold = 0.05, method = 'qvalue', top_count = 10, top_percent = 15) {\n",
    "    p = ncol(X)\n",
    "    pvec = rep(NA, p)\n",
    "    ltau = length(tau.list)\n",
    "    # Initialize quantile.pvalue with appropriate column names\n",
    "    quantile.pvalue = matrix(NA, nrow = p, ncol = ltau, dimnames = list(colnames(X), paste(\"p_qr\", tau.list, sep = \"_\")))\n",
    "    y = as.matrix(Y)\n",
    "    \n",
    "    # If Z is provided, use it; otherwise just use the intercept\n",
    "    if (!is.null(Z)) {\n",
    "        zz = cbind(rep(1, nrow(y)), Z)  # Intercept and covariates\n",
    "    } else {\n",
    "        zz = matrix(1, nrow = nrow(y), ncol = 1)  # Only intercept\n",
    "    }\n",
    "\n",
    "    # Calculate ranks for each tau\n",
    "    ranks_list = lapply(tau.list, function(tau) {\n",
    "        suppressWarnings(rq.fit.br(zz, y, tau = tau)$dual - (1 - tau))\n",
    "    })\n",
    "    \n",
    "    for (ip in 1:p) {\n",
    "        x = as.matrix(X[, ip])\n",
    "        VN = matrix(0, nrow = ltau, ncol = ltau)\n",
    "        for (i in 1:ltau) {\n",
    "            for (j in 1:ltau) {\n",
    "                VN[i, j] = min(tau.list[i], tau.list[j]) - tau.list[i] * tau.list[j]\n",
    "            }\n",
    "        }\n",
    "\n",
    "        # If Z is provided, compute the residuals; otherwise use x directly\n",
    "        if (!is.null(Z)) {\n",
    "            xstar = lm(x ~ zz - 1)$residual  # Residual after adjusting for Z\n",
    "        } else {\n",
    "            xstar = x  # No residual, use x directly\n",
    "        }\n",
    "\n",
    "        SN = NULL\n",
    "        for (itau in 1:ltau) {\n",
    "            Sn = as.matrix(t(xstar) %*% ranks_list[[itau]])\n",
    "            SN = c(SN, Sn)\n",
    "        }\n",
    "        VN2 = matrix(outer(VN, t(xstar) %*% xstar, \"*\"), nrow = ltau)\n",
    "        pvalue1 = pchisq(SN^2 / diag(VN2), 1, lower.tail = F)\n",
    "        names(pvalue1) = tau.list\n",
    "        # Store quantile-specific p-values directly in the correct place\n",
    "        quantile.pvalue[ip, ] <- pvalue1\n",
    "        e = solve(chol(VN2))\n",
    "        SN2 = t(e) %*% SN\n",
    "        # composite p-value\n",
    "        pvalue = pchisq(sum(SN2^2), ltau, lower.tail = F)\n",
    "    }\n",
    "\n",
    "    # cauchy combined p-value\n",
    "    pvec <- apply(quantile.pvalue, 1, Get.cauchy)\n",
    "    # adjusted pvalue\n",
    "    if (method == 'fdr') {\n",
    "        adjusted_pvalues = p.adjust(pvec)\n",
    "        method_col_name = \"fdr_p_qr\"\n",
    "        method_quantile_names = paste0(\"fdr_p_qr_\", tau.list)\n",
    "        quantile_adjusted_pvalues = apply(quantile.pvalue, 2, p.adjust)\n",
    "    } else if (method == 'qvalue') {\n",
    "        adjusted_pvalues = compute_qvalues(pvec)\n",
    "        method_col_name = \"qvalue_qr\"\n",
    "        method_quantile_names = paste0(\"qvalue_qr_\", tau.list)\n",
    "        quantile_adjusted_pvalues = apply(quantile.pvalue, 2, compute_qvalues)\n",
    "    } else {\n",
    "        stop(\"Invalid method. Choose 'fdr' or 'qvalue'.\")\n",
    "    }\n",
    "\n",
    "    sig_SNP_threshold = which(adjusted_pvalues < threshold)\n",
    "    sig_SNP_top_count = order(adjusted_pvalues)[1:top_count]\n",
    "    sig_SNP_top_percent = order(adjusted_pvalues)[1:max(1, round(length(adjusted_pvalues) * top_percent / 100))]\n",
    "\n",
    "    sig.SNPs_names = colnames(X)[sig_SNP_threshold]\n",
    "    sig.SNPs_names_top_count = colnames(X)[sig_SNP_top_count]\n",
    "    sig.SNPs_names_top_percent = colnames(X)[sig_SNP_top_percent]\n",
    "    phenotype_id = colnames(y)[1]\n",
    "\n",
    "    df_result = data.frame(\n",
    "        phenotype_id = phenotype_id,\n",
    "        variant_id = rownames(quantile.pvalue),   # Keep all variants, not just significant ones\n",
    "        p_qr = pvec,\n",
    "        quantile.pvalue,        \n",
    "        method_pvalue = adjusted_pvalues,\n",
    "        quantile_adjusted_pvalues\n",
    "    )%>%\n",
    "        # Split the 'variant_id' and place 'chr', 'pos', 'ref', 'alt' at the front\n",
    "        separate(variant_id, into = c(\"chr\", \"pos\", \"ref\", \"alt\"), sep = \"[:_]\", remove = FALSE) %>%\n",
    "        mutate(chr = as.numeric(gsub(\"chr\", \"\", chr)), pos = as.numeric(pos)) %>%\n",
    "        select(chr, pos, ref, alt, everything())\n",
    "\n",
    "    # Rename the 'method_pvalue' column to the appropriate name based on method\n",
    "    colnames(df_result)[ncol(df_result) - ltau] <- method_col_name    \n",
    "    colnames(df_result)[(ncol(df_result) - ltau + 1):ncol(df_result)] <- method_quantile_names   \n",
    "\n",
    "    if (length(sig_SNP_threshold) > 0) {\n",
    "        sig_df_result = data.frame(\n",
    "            phenotype_id = phenotype_id,\n",
    "            variant_id = rownames(quantile.pvalue)[sig_SNP_threshold],\n",
    "            p_qr = pvec[sig_SNP_threshold],\n",
    "            quantile.pvalue[sig_SNP_threshold, ],        \n",
    "            method_pvalue = adjusted_pvalues[sig_SNP_threshold],\n",
    "            quantile_adjusted_pvalues[sig_SNP_threshold, ]\n",
    "        )%>%\n",
    "            # Split the 'variant_id' and place 'chr', 'pos', 'ref', 'alt' at the front\n",
    "            separate(variant_id, into = c(\"chr\", \"pos\", \"ref\", \"alt\"), sep = \"[:_]\", remove = FALSE) %>%\n",
    "            mutate(chr = as.numeric(gsub(\"chr\", \"\", chr)), pos = as.numeric(pos)) %>%\n",
    "            select(chr, pos, ref, alt, everything())\n",
    "\n",
    "        # Rename the 'method_pvalue' column to the appropriate name based on method\n",
    "        colnames(sig_df_result)[ncol(sig_df_result) - ltau] <- method_col_name    \n",
    "        colnames(sig_df_result)[(ncol(sig_df_result) - ltau + 1):ncol(sig_df_result)] <- method_quantile_names   \n",
    "    } else {\n",
    "        sig_df_result = data.frame()  # Return empty data frame if no significant SNPs\n",
    "    }\n",
    "\n",
    "    return(list(df_result = df_result,\n",
    "                sig_p_df = sig_df_result,\n",
    "                tau_list = tau.list, \n",
    "                quantile_pvalue = quantile.pvalue, \n",
    "                pvec = pvec, \n",
    "                adjusted_pvalues = adjusted_pvalues, \n",
    "                sig_SNP_threshold = sig_SNP_threshold, \n",
    "                sig.SNPs_names = sig.SNPs_names,\n",
    "                sig_SNP_top_count = sig_SNP_top_count, \n",
    "                sig_SNP_top_percent = sig_SNP_top_percent))\n",
    "}\n"
   ]
  },
  {
   "cell_type": "markdown",
   "metadata": {},
   "source": [
    "### Observed Behavior: Discrepancy in SNP Selection with and without Covariates\n",
    "\n",
    "#### Example Code:\n",
    "```r\n",
    "# Run QR_screen with covariates\n",
    "p.screen = QR_screen(X = genotype_df, Y = phenotype_df, Z = covariates_df, tau.list, threshold = 0.05, method = \"qvalue\", top_count = 10, top_percent = 15) \n",
    "\n",
    "# Run QR_screen with residualized X and Y (no covariates)\n",
    "p.screen.residual = QR_screen(X = X_residual, Y = Y_residual, Z = NULL, tau.list, threshold = 0.05, method = \"qvalue\", top_count = 10, top_percent = 15) \n",
    "```\n",
    "#### Example Results:\n",
    "[1] \"There are 224 SNPs selected out of 26044 SNPs (with covariates).\"     \n",
    "[1] \"There are 136 SNPs selected out of 26044 SNPs (residual).\"\n",
    "\n"
   ]
  }
 ],
 "metadata": {
  "kernelspec": {
   "display_name": "R",
   "language": "R",
   "name": "ir"
  },
  "language_info": {
   "codemirror_mode": "r",
   "file_extension": ".r",
   "mimetype": "text/x-r-source",
   "name": "R",
   "pygments_lexer": "r",
   "version": "4.3.1"
  }
 },
 "nbformat": 4,
 "nbformat_minor": 2
}
